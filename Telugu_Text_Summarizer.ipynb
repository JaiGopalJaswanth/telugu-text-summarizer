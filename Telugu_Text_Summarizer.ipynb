{
  "nbformat": 4,
  "nbformat_minor": 0,
  "metadata": {
    "colab": {
      "provenance": [],
      "gpuType": "T4"
    },
    "kernelspec": {
      "name": "python3",
      "display_name": "Python 3"
    },
    "language_info": {
      "name": "python"
    },
    "accelerator": "GPU"
  },
  "cells": [
    {
      "cell_type": "code",
      "execution_count": null,
      "metadata": {
        "id": "ugX2fyGupHgr"
      },
      "outputs": [],
      "source": [
        "!pip install -q transformers sentencepiece\n"
      ]
    },
    {
      "cell_type": "code",
      "source": [
        "telugu_text = \"\"\"\n",
        "హలో, ఇది ఒక పరీక్ష ఆడియో ఫైల్. ఇది విశ్వం ఏఐ ఇంటర్న్‌షిప్ కోసం రూపొందించబడింది.\n",
        "ఇది టెస్టింగ్ కోసం మాత్రమే. ఈ ప్రాజెక్ట్ లో మేము తెలుగు వాయిస్ నోట్ ను రికార్డ్ చేసి,\n",
        "దానిని టెక్స్ట్ గా మార్చి, తరువాత సమ్మరీ గా మార్చుతున్నాం.\n",
        "\"\"\"\n",
        "print(\"🗣️ Telugu Input:\")\n",
        "print(telugu_text)\n"
      ],
      "metadata": {
        "colab": {
          "base_uri": "https://localhost:8080/"
        },
        "id": "J0tEYHtFp40H",
        "outputId": "98bd2cb0-b68e-4110-ae70-0ecd80027f0c"
      },
      "execution_count": null,
      "outputs": [
        {
          "output_type": "stream",
          "name": "stdout",
          "text": [
            "🗣️ Telugu Input:\n",
            "\n",
            "హలో, ఇది ఒక పరీక్ష ఆడియో ఫైల్. ఇది విశ్వం ఏఐ ఇంటర్న్‌షిప్ కోసం రూపొందించబడింది.\n",
            "ఇది టెస్టింగ్ కోసం మాత్రమే. ఈ ప్రాజెక్ట్ లో మేము తెలుగు వాయిస్ నోట్ ను రికార్డ్ చేసి,\n",
            "దానిని టెక్స్ట్ గా మార్చి, తరువాత సమ్మరీ గా మార్చుతున్నాం.\n",
            "\n"
          ]
        }
      ]
    },
    {
      "cell_type": "code",
      "source": [
        "!pip install -q deep-translator\n",
        "\n",
        "from deep_translator import GoogleTranslator\n",
        "\n",
        "# Translate Telugu to English\n",
        "english_translation = GoogleTranslator(source='te', target='en').translate(telugu_text)\n",
        "\n",
        "print(\"🌍 English Translation:\\n\", english_translation)\n"
      ],
      "metadata": {
        "colab": {
          "base_uri": "https://localhost:8080/"
        },
        "id": "rkcecNPR2F2E",
        "outputId": "c919040b-77ed-4961-aa72-667479df96da"
      },
      "execution_count": null,
      "outputs": [
        {
          "output_type": "stream",
          "name": "stdout",
          "text": [
            "\u001b[?25l   \u001b[90m━━━━━━━━━━━━━━━━━━━━━━━━━━━━━━━━━━━━━━━━\u001b[0m \u001b[32m0.0/42.3 kB\u001b[0m \u001b[31m?\u001b[0m eta \u001b[36m-:--:--\u001b[0m\r\u001b[2K   \u001b[90m━━━━━━━━━━━━━━━━━━━━━━━━━━━━━━━━━━━━━━━━\u001b[0m \u001b[32m42.3/42.3 kB\u001b[0m \u001b[31m2.7 MB/s\u001b[0m eta \u001b[36m0:00:00\u001b[0m\n",
            "\u001b[?25h🌍 English Translation:\n",
            " Hello, this is a test audio file. It is designed for the universe AI Internship.\n",
            "This is only for testing. In this project we recorded the Telugu Voice Note,\n",
            "We are turning it into text and then converting it into a summer.\n"
          ]
        }
      ]
    },
    {
      "cell_type": "code",
      "source": [
        "from transformers import pipeline\n",
        "\n",
        "summarizer = pipeline(\"summarization\", model=\"facebook/bart-large-cnn\")\n",
        "\n",
        "summary = summarizer(english_translation, max_length=50, min_length=10, do_sample=False)\n",
        "\n",
        "print(\"\\n📝 Summary:\")\n",
        "print(summary[0]['summary_text'])\n"
      ],
      "metadata": {
        "colab": {
          "base_uri": "https://localhost:8080/"
        },
        "id": "A2YHlLmy4bVu",
        "outputId": "918e2f82-a88e-4c6d-adc6-bc142a0ac337"
      },
      "execution_count": null,
      "outputs": [
        {
          "output_type": "stream",
          "name": "stderr",
          "text": [
            "Device set to use cuda:0\n"
          ]
        },
        {
          "output_type": "stream",
          "name": "stdout",
          "text": [
            "\n",
            "📝 Summary:\n",
            "This is only for testing. In this project we recorded the Telugu Voice Note,We are turning it into text and then converting it into a summer. Hello, this is a test audio file. It is designed for the universe AI\n"
          ]
        }
      ]
    }
  ]
}